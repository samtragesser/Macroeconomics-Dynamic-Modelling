{
 "cells": [
  {
   "cell_type": "markdown",
   "id": "6867c4a4",
   "metadata": {},
   "source": [
    "# GSE 512 Midterm\n",
    "### Samuel Tragesser"
   ]
  },
  {
   "cell_type": "code",
   "execution_count": 1,
   "id": "afd16c4c",
   "metadata": {},
   "outputs": [],
   "source": [
    "# Take care of the preliminary business\n",
    "import numpy as np\n",
    "from scipy.linalg import null_space # need this for the ergodic distribution\n",
    "import pandas as pd  #need Pandas for pretty tables\n",
    "import matplotlib.pyplot as plt\n",
    "import math\n",
    "plt.rcParams['figure.figsize'] = (10,6)"
   ]
  },
  {
   "cell_type": "markdown",
   "id": "12496120",
   "metadata": {},
   "source": [
    "#### 1. Import those data from GDP_cycle.csv.  This is a list of 296 numbers"
   ]
  },
  {
   "cell_type": "code",
   "execution_count": 2,
   "id": "b26c7aa7",
   "metadata": {},
   "outputs": [
    {
     "data": {
      "text/html": [
       "<div>\n",
       "<style scoped>\n",
       "    .dataframe tbody tr th:only-of-type {\n",
       "        vertical-align: middle;\n",
       "    }\n",
       "\n",
       "    .dataframe tbody tr th {\n",
       "        vertical-align: top;\n",
       "    }\n",
       "\n",
       "    .dataframe thead th {\n",
       "        text-align: right;\n",
       "    }\n",
       "</style>\n",
       "<table border=\"1\" class=\"dataframe\">\n",
       "  <thead>\n",
       "    <tr style=\"text-align: right;\">\n",
       "      <th></th>\n",
       "      <th>Unnamed: 0</th>\n",
       "      <th>cycle</th>\n",
       "    </tr>\n",
       "  </thead>\n",
       "  <tbody>\n",
       "    <tr>\n",
       "      <th>0</th>\n",
       "      <td>1948-01-01</td>\n",
       "      <td>0.020399</td>\n",
       "    </tr>\n",
       "    <tr>\n",
       "      <th>1</th>\n",
       "      <td>1948-04-01</td>\n",
       "      <td>0.024428</td>\n",
       "    </tr>\n",
       "    <tr>\n",
       "      <th>2</th>\n",
       "      <td>1948-07-01</td>\n",
       "      <td>0.017785</td>\n",
       "    </tr>\n",
       "    <tr>\n",
       "      <th>3</th>\n",
       "      <td>1948-10-01</td>\n",
       "      <td>0.006505</td>\n",
       "    </tr>\n",
       "    <tr>\n",
       "      <th>4</th>\n",
       "      <td>1949-01-01</td>\n",
       "      <td>-0.019847</td>\n",
       "    </tr>\n",
       "    <tr>\n",
       "      <th>...</th>\n",
       "      <td>...</td>\n",
       "      <td>...</td>\n",
       "    </tr>\n",
       "    <tr>\n",
       "      <th>291</th>\n",
       "      <td>2020-10-01</td>\n",
       "      <td>-0.016461</td>\n",
       "    </tr>\n",
       "    <tr>\n",
       "      <th>292</th>\n",
       "      <td>2021-01-01</td>\n",
       "      <td>-0.005077</td>\n",
       "    </tr>\n",
       "    <tr>\n",
       "      <th>293</th>\n",
       "      <td>2021-04-01</td>\n",
       "      <td>0.007303</td>\n",
       "    </tr>\n",
       "    <tr>\n",
       "      <th>294</th>\n",
       "      <td>2021-07-01</td>\n",
       "      <td>0.009068</td>\n",
       "    </tr>\n",
       "    <tr>\n",
       "      <th>295</th>\n",
       "      <td>2021-10-01</td>\n",
       "      <td>0.021795</td>\n",
       "    </tr>\n",
       "  </tbody>\n",
       "</table>\n",
       "<p>296 rows × 2 columns</p>\n",
       "</div>"
      ],
      "text/plain": [
       "     Unnamed: 0     cycle\n",
       "0    1948-01-01  0.020399\n",
       "1    1948-04-01  0.024428\n",
       "2    1948-07-01  0.017785\n",
       "3    1948-10-01  0.006505\n",
       "4    1949-01-01 -0.019847\n",
       "..          ...       ...\n",
       "291  2020-10-01 -0.016461\n",
       "292  2021-01-01 -0.005077\n",
       "293  2021-04-01  0.007303\n",
       "294  2021-07-01  0.009068\n",
       "295  2021-10-01  0.021795\n",
       "\n",
       "[296 rows x 2 columns]"
      ]
     },
     "execution_count": 2,
     "metadata": {},
     "output_type": "execute_result"
    }
   ],
   "source": [
    "df = pd.read_csv(\"GDP_cycle.csv\")\n",
    "df"
   ]
  },
  {
   "cell_type": "markdown",
   "id": "2a43f778",
   "metadata": {},
   "source": [
    "#### 2. Plot and make a histogram with five bins.  Each bin will be a state.  The lowest bin is the Covid state; it only has one observation."
   ]
  },
  {
   "cell_type": "code",
   "execution_count": 3,
   "id": "bb50ef40",
   "metadata": {},
   "outputs": [
    {
     "data": {
      "image/png": "[encoded data removed]",
      "text/plain": [
       "<Figure size 720x432 with 1 Axes>"
      ]
     },
     "metadata": {
      "needs_background": "light"
     },
     "output_type": "display_data"
    }
   ],
   "source": [
    "#plot histogram\n",
    "(counts, bins, patches) = plt.hist(df.cycle, bins=5, color='royalblue', edgecolor='black')\n",
    "\n",
    "plt.title(\"Distribution of GDP Cycle\")\n",
    "plt.xlabel(\"GDP Cycle\")\n",
    "plt.ylabel(\"Frequency\")\n",
    "plt.show()"
   ]
  },
  {
   "cell_type": "markdown",
   "id": "02a5bc74",
   "metadata": {},
   "source": [
    "#### 3. Classify the states"
   ]
  },
  {
   "cell_type": "code",
   "execution_count": 4,
   "id": "cc38aa8a",
   "metadata": {},
   "outputs": [
    {
     "data": {
      "text/plain": [
       "[3, 0, 2, 2, 3, 3, 3, 4]"
      ]
     },
     "execution_count": 4,
     "metadata": {},
     "output_type": "execute_result"
    }
   ],
   "source": [
    "states = []\n",
    "for i in df.cycle:\n",
    "    if i==bins[0]:\n",
    "        states.append(0)\n",
    "    if bins[1]<=i<=bins[2]:\n",
    "        states.append(1)\n",
    "    if bins[2]<=i<=bins[3]:\n",
    "        states.append(2)\n",
    "    if bins[3]<=i<=bins[4]:\n",
    "        states.append(3)\n",
    "    if bins[4]<=i<=bins[5]:\n",
    "        states.append(4)\n",
    "        \n",
    "#check if same as Fisher\n",
    "states[-8:]"
   ]
  },
  {
   "cell_type": "markdown",
   "id": "7330f537",
   "metadata": {},
   "source": [
    "#### 4. Estimate the Markov matrix, and find its ergodic distribution  Report the long-run probability of being in a Covid state."
   ]
  },
  {
   "cell_type": "code",
   "execution_count": 5,
   "id": "6a8d680c",
   "metadata": {},
   "outputs": [
    {
     "data": {
      "text/plain": [
       "array([[0.        , 0.        , 1.        , 0.        , 0.        ],\n",
       "       [0.        , 0.5       , 0.5       , 0.        , 0.        ],\n",
       "       [0.        , 0.04761905, 0.64285714, 0.30952381, 0.        ],\n",
       "       [0.00574713, 0.        , 0.06896552, 0.8045977 , 0.12068966],\n",
       "       [0.        , 0.        , 0.        , 0.28378378, 0.71621622]])"
      ]
     },
     "execution_count": 5,
     "metadata": {},
     "output_type": "execute_result"
    }
   ],
   "source": [
    "M_count=np.zeros([5,5])\n",
    "#Find the count in each row\n",
    "for i in range(len(states)-1):\n",
    "    M_count[states[i]][states[i+1]] = M_count[states[i]][states[i+1]] + 1\n",
    "    \n",
    "\n",
    "#Estimate Markov matrix\n",
    "sums = M_count.sum(axis=1)\n",
    "M = M_count/sums[:, np.newaxis]\n",
    "M"
   ]
  },
  {
   "cell_type": "code",
   "execution_count": 6,
   "id": "1ef91623",
   "metadata": {},
   "outputs": [],
   "source": [
    "def ergodic(m):\n",
    "    \"\"\"\n",
    "    This code finds the ergodic distribution of a Markov matrix\n",
    "    \"\"\"\n",
    "    n=m.shape[0] # number of rows\n",
    "    T = 1000 # useful constant\n",
    "    eps=0.0001 #useful constant\n",
    "    if (m.shape[0] != m.shape[1]): #test for a square matrix\n",
    "        return('Matrix is not square') \n",
    "    if (not (np.matmul(m,np.ones(n))==1).all()): #test row sums \n",
    "        return('This is not a Markov matrix')\n",
    "    if( not ((m >= 0).all() and (m <= 1).all())): #test probabilities\n",
    "        return('This is not a Markov matrix')\n",
    "    m_long = np.linalg.matrix_power(m,T)\n",
    "    if( not ((m_long > 0).all() and (m_long < 1).all())): #crude test for aperiodic and irreducible\n",
    "        return('This matrix may not be both aperiodic and irreducible')\n",
    "    w,v = np.linalg.eig(m.T) #Need the left eigenvector; that's why we transpose\n",
    "    choose = (abs(w-1) < eps)\n",
    "    m_long = v[:,choose]/sum(v[:,choose])  #Need to make the eigenvector into a probability vector.\n",
    "    return(m_long)"
   ]
  },
  {
   "cell_type": "code",
   "execution_count": 7,
   "id": "fd8db544",
   "metadata": {},
   "outputs": [
    {
     "name": "stdout",
     "output_type": "stream",
     "text": [
      "The long-run probability of being in a Covid state is 0.33898 percent.\n"
     ]
    }
   ],
   "source": [
    "#ergodic distribution of Markov matrix\n",
    "ergodic_M = ergodic(M)\n",
    "print(\"The long-run probability of being in a Covid state is\",round(ergodic_M[0][0] * 100,5),\"percent.\" )"
   ]
  },
  {
   "cell_type": "markdown",
   "id": "39e735b0",
   "metadata": {},
   "source": [
    "#### 5. Calculate the consumption vector as follows,  First, find the the average value within each bin.  Then raise e to the power of those five numbers. "
   ]
  },
  {
   "cell_type": "code",
   "execution_count": 8,
   "id": "e562d27c",
   "metadata": {},
   "outputs": [
    {
     "name": "stdout",
     "output_type": "stream",
     "text": [
      "The consumption in each state is [0.91130092 0.95326013 0.97584011 0.99941257 1.01902903]\n"
     ]
    }
   ],
   "source": [
    "#sort data by value\n",
    "cycle = np.array(df.cycle.sort_values( ascending = True))\n",
    "#split data into quartiles and compute exp of the mean\n",
    "c0 = math.exp(np.mean(cycle[0]))\n",
    "c1 = math.exp(np.mean(cycle[1:5]))\n",
    "c2 = math.exp(np.mean(cycle[5:47]))\n",
    "c3 = math.exp(np.mean(cycle[47:221]))\n",
    "c4 = math.exp(np.mean(cycle[221:]))\n",
    "#put everything into consumption vector\n",
    "c = np.array([c0, c1, c2, c3, c4])\n",
    "print(\"The consumption in each state is\",c)"
   ]
  },
  {
   "cell_type": "markdown",
   "id": "ff574a6d",
   "metadata": {},
   "source": [
    "#### 6. Here's the asset pricing kernel.  Explain why the diagonal elements are all the same.  Explain also why the matrix is not symmetric.  Explain how the kernel depends upon the Markov matrix. "
   ]
  },
  {
   "cell_type": "code",
   "execution_count": 9,
   "id": "0f0ce407",
   "metadata": {},
   "outputs": [],
   "source": [
    "#This is the code from 28 Jan 21\n",
    "# There's no β here.\n",
    "# This function is used for each row.\n",
    "\n",
    "def kern(c0,c1,rho):\n",
    "    \"\"\"\n",
    "    This function returns an asset pricing kernel \n",
    "    c0 is current consumption\n",
    "    c1 is the vector of future consumptions\n",
    "    rho is the inter-temporal elasticity of substitution\n",
    "    \"\"\"\n",
    "    if rho == 1:\n",
    "        return np.true_divide(1,c1)/(1/c0) \n",
    "    else: \n",
    "        return np.power(c1,-rho)/c0**(-rho)\n",
    "    \n",
    "\n",
    "def mkern(c,beta,rho):\n",
    "    n = len(c) # number of states\n",
    "    K=np.zeros((n,n)) # start with an array of zeros\n",
    "    for i in range (n):\n",
    "        K[i,:] = beta*kern(c[i],c,rho)  # each row is an asset pricing kernel for consumption in state i\n",
    "    return(K)\n",
    "        "
   ]
  },
  {
   "cell_type": "code",
   "execution_count": 10,
   "id": "c03d77e9",
   "metadata": {},
   "outputs": [
    {
     "data": {
      "text/plain": [
       "array([[0.99241412, 0.90697161, 0.86548435, 0.82513865, 0.79367634],\n",
       "       [1.08590586, 0.99241412, 0.9470185 , 0.90287197, 0.86844571],\n",
       "       [1.13795909, 1.03998579, 0.99241412, 0.94615142, 0.91007492],\n",
       "       [1.19360035, 1.09083658, 1.04093886, 0.99241412, 0.95457364],\n",
       "       [1.24091614, 1.13407869, 1.08220296, 1.03175464, 0.99241412]])"
      ]
     },
     "execution_count": 10,
     "metadata": {},
     "output_type": "execute_result"
    }
   ],
   "source": [
    "# need all of these constants\n",
    "beta=0.97**(1/4)\n",
    "rho=2\n",
    "\n",
    "R = np.ones([5]).T\n",
    "\n",
    "K=mkern(c,beta,rho)\n",
    "#check to see if asset pricing kernel is the same as Fisher\n",
    "K"
   ]
  },
  {
   "cell_type": "markdown",
   "id": "5675b314",
   "metadata": {},
   "source": [
    "The asset pricing kernel depends on the Markov matrix in that it incorportates the consumption vector, which is an outcome dependant on the probability of landing in each state one period away. The diagonal elements of the asset pricing kernel are the same because an asset will not change in price if there is not a change in states. The elements of lower left triangle of the kernel are greater than 1 because this is discounting for a change in \"boom\" state to \"bust\" state. "
   ]
  },
  {
   "cell_type": "markdown",
   "id": "0996f682",
   "metadata": {},
   "source": [
    "#### 7. Here is an array of maturities [1, 2, 4, 8, 20, 40, 80, 120] in quarters.  Make a diagram with five yield curves.  Each line in your diagram should consist of a yield curve in a given state. "
   ]
  },
  {
   "cell_type": "code",
   "execution_count": 11,
   "id": "9b8caae1",
   "metadata": {},
   "outputs": [],
   "source": [
    "def pricing_T(M,K,R,T):\n",
    "    \"\"\"\n",
    "    M is a markov matrix\n",
    "    K is a pricing kernel\n",
    "    R is a matrix of asset payouts.\n",
    "    R is an n x m matrix.  \n",
    "    There are n states and m assets.\n",
    "    R(:,j) is the description of asset j\n",
    "    The asset returns are by column.\n",
    "    R(i,j) is what asset j pays if state i happens.\n",
    "    This method returns a n x m matrix P\n",
    "    P(i,j) is the price of asset j in state i\n",
    "    This method prices assets that pay out in the period T only\n",
    "    \"\"\"\n",
    "    if M.shape != K.shape:\n",
    "        return('Markov matrix and pricing kernels are not conformable.')\n",
    "    if M.shape[1] != R.shape[0]:\n",
    "        return('Asset price matrix is not conformable.')\n",
    "    M1=np.multiply(M,K) #element-by-elemnt multiplication\n",
    "    P = np.matmul(np.linalg.matrix_power(M1,T), R)  \n",
    "    #raise M1 to the T the right multiply by R\n",
    "    return(P)\n"
   ]
  },
  {
   "cell_type": "code",
   "execution_count": 12,
   "id": "5ee5e20e",
   "metadata": {},
   "outputs": [
    {
     "data": {
      "image/png": "[encoded data removed]",
      "text/plain": [
       "<Figure size 720x432 with 1 Axes>"
      ]
     },
     "metadata": {
      "needs_background": "light"
     },
     "output_type": "display_data"
    }
   ],
   "source": [
    "yields = {}\n",
    "r  = np.array([[1], [1], [1], [1], [1]])\n",
    "T = np.array([1, 2, 4, 8, 20, 40, 80, 120])\n",
    "for t in T:\n",
    "    P = pricing_T(M,K,r,t)\n",
    "    yields[t] = (1/P[:,0])**(4/t) - 1\n",
    "yields = pd.DataFrame(yields).transpose()\n",
    "\n",
    "#Plot yield curves\n",
    "fig, ax = plt.subplots()\n",
    "plt.title(\"Yield Curves in Economic States\")\n",
    "ax.plot(yields, linewidth=2)\n",
    "ax.set_ylim(-0.02, 0.15)\n",
    "ax.set_xlabel(\"Maturity in Quarters\")\n",
    "ax.set_ylabel(\"Yield\")\n",
    "ax.legend(yields.columns)\n",
    "plt.show()"
   ]
  },
  {
   "cell_type": "markdown",
   "id": "1b3894d5",
   "metadata": {},
   "source": [
    "#### 8.  Discuss whether an inverted yield curve conveys information about next period's state."
   ]
  },
  {
   "cell_type": "markdown",
   "id": "d829f892",
   "metadata": {},
   "source": [
    "The inverted yield curves in states 0, 1, and 2 indicate that there are higher returns for short term bonds than than long term bonds. Because of the increase sense of panic, people are more likely to seek safer, longer term investments. This causes an increase in the interest rates for short term borrowing to incentive investors to put money in shorter term bonds.\n",
    "\n",
    "Given we are in lesser state the curves indicate that the consumption is likley to be higher in the next state, meaning that individuals will price out the likelihood of ending up in a more advantageous state in the next period. "
   ]
  },
  {
   "cell_type": "markdown",
   "id": "e0fc23b2",
   "metadata": {},
   "source": [
    "#### 9. The stock market is an asset that pays a dividend equal to the economy's consumption in each quarter.  Price the stock market in each state.  (You can truncate the dividends after 10,000 periods.)."
   ]
  },
  {
   "cell_type": "code",
   "execution_count": 13,
   "id": "ea35fe51",
   "metadata": {},
   "outputs": [],
   "source": [
    "def pricing_stock(M,K,R,T):\n",
    "    \"\"\"\n",
    "    M is a markov matrix\n",
    "    K is a pricing kernel\n",
    "    R is an n x T matrix of asset payouts.  \n",
    "    There are n states and T periods.\n",
    "    R(:,t) is the description of the dividends promised in period t\n",
    "    The asset returns are by column.\n",
    "    R(i,t) is what the asset pays at time t if state i happens.\n",
    "    This method returns a n x 1 vector p\n",
    "    p(i) is the price of this sock in state i\n",
    "    This method prices assets that pay out in the period T only\n",
    "    T is the end of the payout stream\n",
    "    \"\"\"\n",
    "    n=M.shape[0] #number of states\n",
    "    if M.shape != K.shape:\n",
    "        return('Markov matrix and pricing kernels are not conformable.')\n",
    "    if M.shape[1] != R.shape[0]:\n",
    "        return('Asset price matrix is not conformable.')\n",
    "    M1=np.multiply(M,K) #element-by-element multiplication\n",
    "    p=np.zeros(n)\n",
    "    for t in range(T):\n",
    "        p += np.matmul(np.linalg.matrix_power(M1,t), R[:,t])  \n",
    "    #raise M1 to the T the right multiply by t-th column of R\n",
    "    # Then add them all up\n",
    "    return(p)"
   ]
  },
  {
   "cell_type": "code",
   "execution_count": 14,
   "id": "315e6936",
   "metadata": {},
   "outputs": [
    {
     "name": "stdout",
     "output_type": "stream",
     "text": [
      "The stock prices in each state are [109.65243393 119.98159553 125.64194044 131.69296797 136.84573899]\n"
     ]
    }
   ],
   "source": [
    "T = 10000\n",
    "R = np.array([[c[0]]*10000,[c[1]]*10000,[c[2]]*10000,[c[3]]*10000,[c[4]]*10000])\n",
    "stk_p = pricing_stock(M,K,R,T)\n",
    "print(\"The stock prices in each state are\",stk_p)"
   ]
  },
  {
   "cell_type": "markdown",
   "id": "a7f44cc6",
   "metadata": {},
   "source": [
    "#### 10.  The first row of the Markov matrix was (0, 0, 1, 0, 0).  What is the expected duration of a lockdown for this matrix?  Change the first row of the matrix so that it is (p, 0,  1-p, 0, 0) for 0 < p < 1 to simulate a hard four-period lockdown.   What is the correct value of p? "
   ]
  },
  {
   "cell_type": "code",
   "execution_count": 15,
   "id": "01e40d47",
   "metadata": {},
   "outputs": [
    {
     "name": "stdout",
     "output_type": "stream",
     "text": [
      " The long-run probability of being in a Covid state is 0.01342282\n"
     ]
    }
   ],
   "source": [
    "#The correct value of p is p = 0.75 because it creates a situation where ther expected lockdown is 4 periods.\n",
    "p = 0.75\n",
    "M1 = np.array(M)\n",
    "M1[0] = [p, 0 , 1-p, 0, 0]\n",
    "ergodic_M1 = ergodic(M1).real\n",
    "print(\" The long-run probability of being in a Covid state is\", round(ergodic_M1[0,0],8))"
   ]
  },
  {
   "cell_type": "markdown",
   "id": "2133ecf8",
   "metadata": {},
   "source": [
    "#### 11. Simulate and graph the time series of consumption and the stock market for 400 periods  in the two different scenarios, the one-period lockdown and the four-period lockdown.   You should multiply consumption times 100 to put it on the same scale as the stock market."
   ]
  },
  {
   "cell_type": "code",
   "execution_count": 16,
   "id": "b5bd4a1e",
   "metadata": {},
   "outputs": [],
   "source": [
    "def simulate(m,x,T):\n",
    "    \"\"\"\n",
    "    This code simulates the outcomes of variable x\n",
    "    x must be a k x n array of the endogenous variables in each state\n",
    "    Each endogenous variable x(i,:) has n numbers. x(i,j) is the value of the i-th variable in state j\n",
    "    m is the n x n Markov matrix that gives transitions between states\n",
    "    T is the time horizon\n",
    "    This method needs the method called ergodic to have been compiled\n",
    "    It returns both the simulated history of states and the simulated random outcomes\n",
    "    states is a T x 1 vector: s0, s1, ...\n",
    "    y is a T x 1 vector x(s0), x(s1), ...\n",
    "    \"\"\"\n",
    "    n = m.shape[0] # number of rows of m is the number of states\n",
    "    k = x.shape[0] # number of endogenous variables\n",
    "    if x.shape[1] != n:  # check that each variable has n values\n",
    "        return('The endogenous variables are not in the proper format')\n",
    "    long_run = ergodic(m).real  # gets the ergodic distribution of m\n",
    "    s0 = np.random.choice(np.arange(0, n), p=long_run[:,0]) # pick a random inital state using π\n",
    "    state=[s0] #array showing history of states, starting with the null history\n",
    "    y = np.zeros((T,k)) \n",
    "    y[0,:]=x[:,s0] # initial value of the simulated outcomes\n",
    "    for t in range(1,T): # we already have used up the null history\n",
    "        s=np.random.choice(np.arange(0, n), p=m[s0,:]) #choose a random state for next period \n",
    "        s0=s #save that new random state\n",
    "        state.append(s) # append it to the history of states\n",
    "        y[t,:]= x[:,s] # the t-th row of outcomes is the s-th column of the endogenous variables\n",
    "    return(state,y)"
   ]
  },
  {
   "cell_type": "code",
   "execution_count": 17,
   "id": "81e009aa",
   "metadata": {},
   "outputs": [
    {
     "data": {
      "image/png": "[encoded data removed]",
      "text/plain": [
       "<Figure size 720x432 with 2 Axes>"
      ]
     },
     "metadata": {
      "needs_background": "light"
     },
     "output_type": "display_data"
    }
   ],
   "source": [
    "T = 400\n",
    "x = np.zeros([2,5])\n",
    "x[0,:]=100*c.T\n",
    "x[1,:]=stk_p\n",
    "\n",
    "#Simulate time series of consumption and the stock market for 400 periods\n",
    "state1,y1 = simulate(M,x,T)\n",
    "state4,y4 = simulate(M1,x,T)\n",
    "\n",
    "c1 = y1[:,0]\n",
    "stock1 = y1[:,1]\n",
    "c4 = y4[:,0]\n",
    "stock4 = y4[:,1]\n",
    "\n",
    "#Graph simulation\n",
    "fig, (ax1,ax2) = plt.subplots(2)\n",
    "fig.suptitle(\"Consumption and Stock Prices\", size='xx-large')\n",
    "plt.subplots_adjust( wspace=0.4, hspace=0.4)\n",
    "\n",
    "ax1.plot(c1, color = 'orange')\n",
    "ax1.plot(stock1,color='g')\n",
    "ax1.legend(['consumption','stock prices'],loc='center left', bbox_to_anchor=(1, 0.5))\n",
    "ax1.set_title(\"One Period\")\n",
    "\n",
    "ax2.plot(c4,color='orange')\n",
    "ax2.plot(stock4,color='g')\n",
    "ax2.legend(['consumption','stock prices'],loc='center left', bbox_to_anchor=(1, 0.5))\n",
    "ax2.set_title(\"Four Period\")\n",
    "\n",
    "plt.show()"
   ]
  },
  {
   "cell_type": "markdown",
   "id": "9cdff18f",
   "metadata": {},
   "source": [
    "#### 12.  Calculate the welfare loss from a four-period lockdown as the percentage decrease in long-run average consumption, when comparing a four-period lockdown with a one-period one.  You might want to consider a Rawlsian criterion for welfare loss also; such a criterion would focus on the probability of being in the worst state.    Using this article     https://www.pnas.org/content/117/36/22035  explain if a year-long lockdown was worth it."
   ]
  },
  {
   "cell_type": "code",
   "execution_count": 18,
   "id": "db3869d9",
   "metadata": {},
   "outputs": [
    {
     "name": "stdout",
     "output_type": "stream",
     "text": [
      "Percentage change in consumption is 0.03170199\n"
     ]
    }
   ],
   "source": [
    "# Finding consumption percentage change for the two scenarios\n",
    "#I worked with Che Lopez on this section\n",
    "c1_avg=np.mean(c1)\n",
    "c4_avg=np.mean(c4) #average consumption four period lockdown\n",
    "print('Percentage change in consumption is',round((c4_avg-c1_avg)/c1_avg*100, 8) )"
   ]
  },
  {
   "cell_type": "code",
   "execution_count": 19,
   "id": "09a30047",
   "metadata": {},
   "outputs": [],
   "source": [
    "#Utility function\n",
    "def utility(beta, c, rho):\n",
    "    util=0\n",
    "    for i in range(len(c)):\n",
    "        util += (beta**i)* ((c**(1-rho))/(1-rho))\n",
    "    return util"
   ]
  },
  {
   "cell_type": "code",
   "execution_count": 20,
   "id": "46ec6cbc",
   "metadata": {},
   "outputs": [],
   "source": [
    "# Finding utility for one period lockdown and four period lockdown\n",
    "util1= utility(beta, c1, rho)\n",
    "\n",
    "util4= utility(beta, c4, rho)"
   ]
  },
  {
   "cell_type": "code",
   "execution_count": 21,
   "id": "63afb4d4",
   "metadata": {},
   "outputs": [
    {
     "name": "stdout",
     "output_type": "stream",
     "text": [
      "The average utility in one period lockdown is -1.2576240823348803\n",
      "The average utility in four period lockdown is -1.2572255188900172\n",
      "Welfare loss in utility is 0.0003985634448632319\n"
     ]
    }
   ],
   "source": [
    "# Here I will find the welfare loss by taking the difference\n",
    "diff= util4-util1\n",
    "print('The average utility in one period lockdown is', np.mean(util1))\n",
    "print('The average utility in four period lockdown is', np.mean(util4))\n",
    "print('Welfare loss in utility is', np.mean(diff))"
   ]
  },
  {
   "cell_type": "code",
   "execution_count": 22,
   "id": "91c2eb6d",
   "metadata": {},
   "outputs": [
    {
     "data": {
      "image/png": "[encoded data removed]",
      "text/plain": [
       "<Figure size 720x432 with 1 Axes>"
      ]
     },
     "metadata": {
      "needs_background": "light"
     },
     "output_type": "display_data"
    }
   ],
   "source": [
    "yields1 = {}\n",
    "r  = np.array([[1], [1], [1], [1], [1]])\n",
    "T = np.array([1, 2, 4, 8, 20, 40, 80, 120])\n",
    "for t in T:\n",
    "    P = pricing_T(M1,K,r,t)\n",
    "    yields1[t] = (1/P[:,0])**(4/t) - 1\n",
    "yields1 = pd.DataFrame(yields1).transpose()\n",
    "\n",
    "#Plot yield curves\n",
    "fig, ax = plt.subplots()\n",
    "plt.title(\"Yield Curves in COVID States\")\n",
    "ax.plot(yields[0],\"--\", linewidth=2,color='b')\n",
    "ax.plot(yields1[0],\"--\", linewidth=2,color='r')\n",
    "ax.set_ylim(-0.02, 0.80)\n",
    "ax.set_xlabel(\"Maturity in Quarters\")\n",
    "ax.set_ylabel(\"Yield\")\n",
    "ax.legend([\"One Period\",\"Four Period\"])\n",
    "plt.show()"
   ]
  },
  {
   "cell_type": "markdown",
   "id": "06c9b88e",
   "metadata": {},
   "source": [
    "The above calculation finds average long-term consumption in an expected four period lockdown to be about 0.3% less than an expected one period lockdown. Assuming a linear function, every additional lockdown period will decrease expected long-term avergage consumption by about 0.1%. However, despite the fact that we only observe a one period lockdown from the observed data, adding an additional period of lockdown would arguably have small effect on longterm consumption.\n",
    "\n",
    "This is also evident by the changes in the yield curves in the COVID state. The slope in a four period lockdown is greatly less, indicating less optimism for future periods. However, over the long term, both yield curves converge to the same point, indicating that a COVID state has a much greater impact on the short term than the long term.\n",
    "\n",
    "The article by Goldstein and Lee puts COVID mortality statisics into context with other instances that led to the loss of life. While the article estimates a relatively small loss of life when weighted by expected years remaining in life, there is a large monetary cost to those lives lost. Depending on whether we exist in a world with one period lockdowns or four period lockdowns, the outlook and decison making process on the longterm outlook should not change. The article suggests that there should be care towards saving human life up to a certain point. However, this should only be taken up to a certain point as yields and consumption will converge to stable levels over the long term."
   ]
  }
 ],
 "metadata": {
  "kernelspec": {
   "display_name": "Python 3 (ipykernel)",
   "language": "python",
   "name": "python3"
  },
  "language_info": {
   "codemirror_mode": {
    "name": "ipython",
    "version": 3
   },
   "file_extension": ".py",
   "mimetype": "text/x-python",
   "name": "python",
   "nbconvert_exporter": "python",
   "pygments_lexer": "ipython3",
   "version": "3.8.8"
  }
 },
 "nbformat": 4,
 "nbformat_minor": 5
}
