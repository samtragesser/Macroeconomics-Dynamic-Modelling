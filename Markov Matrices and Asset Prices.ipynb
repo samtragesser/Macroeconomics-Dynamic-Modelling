{
 "cells": [
  {
   "cell_type": "markdown",
   "id": "a230e259",
   "metadata": {},
   "source": [
    "# Markov Matricies and Asset Prices"
   ]
  },
  {
   "cell_type": "code",
   "execution_count": 1,
   "id": "31f8755e",
   "metadata": {},
   "outputs": [],
   "source": [
    "import numpy as np\n",
    "import pandas as pd\n",
    "import math\n",
    "from matplotlib import pyplot as plt"
   ]
  },
  {
   "cell_type": "code",
   "execution_count": 2,
   "id": "2a95d281",
   "metadata": {},
   "outputs": [
    {
     "data": {
      "image/png": "[encoded data removed]",
      "text/plain": [
       "<Figure size 720x504 with 1 Axes>"
      ]
     },
     "metadata": {
      "needs_background": "light"
     },
     "output_type": "display_data"
    }
   ],
   "source": [
    "df = pd.read_csv(\"GDP_cycle.csv\")\n",
    "\n",
    "#Plot histogram of data\n",
    "fig, ax = plt.subplots(figsize =(10, 7))\n",
    "ax.hist(df.cycle, bins=20)\n",
    "plt.show()"
   ]
  },
  {
   "cell_type": "code",
   "execution_count": 3,
   "id": "4ad35a90",
   "metadata": {},
   "outputs": [
    {
     "data": {
      "text/plain": [
       "array([0.97846196, 0.99664606, 1.00620004, 1.01913278])"
      ]
     },
     "execution_count": 3,
     "metadata": {},
     "output_type": "execute_result"
    }
   ],
   "source": [
    "#sort data by value\n",
    "cycle = np.array(df.cycle.sort_values( ascending = True))\n",
    "#split data into quartiles and compute exp of the mean\n",
    "c0 = math.exp(np.mean(cycle[0:74]))\n",
    "c1 = math.exp(np.mean(cycle[74:148]))\n",
    "c2 = math.exp(np.mean(cycle[148:222]))\n",
    "c3 = math.exp(np.mean(cycle[222:296]))\n",
    "#put everything into consumption vector\n",
    "c = np.array([c0, c1, c2, c3])\n",
    "c #Check to see if consumption vector is the same as Fisher"
   ]
  },
  {
   "cell_type": "code",
   "execution_count": 4,
   "id": "3495a2e2",
   "metadata": {},
   "outputs": [
    {
     "data": {
      "text/plain": [
       "array([3, 3, 3, 2, 0, 0, 0, 0, 0, 0, 2, 3, 3, 3, 3, 3, 3])"
      ]
     },
     "execution_count": 4,
     "metadata": {},
     "output_type": "execute_result"
    }
   ],
   "source": [
    "#Assign each period to a quartile\n",
    "q=[]\n",
    "for i in df.cycle:\n",
    "    if i<-0.0087221999962601:\n",
    "        q.append(0)\n",
    "    elif -0.0087221999962601 <= i < 0.0009428081518567:\n",
    "        q.append(1)\n",
    "    elif 0.0009428081518567 <= i < 0.0113638256779982:\n",
    "        q.append(2)\n",
    "    elif i >=0.0113638256779982:\n",
    "        q.append(3)\n",
    "q = np.array(q)\n",
    "q[0:17] #Check to see if the quartiles are the same as Fisher's"
   ]
  },
  {
   "cell_type": "code",
   "execution_count": 5,
   "id": "39438950",
   "metadata": {},
   "outputs": [
    {
     "data": {
      "text/plain": [
       "array([[57., 13.,  4.,  0.],\n",
       "       [13., 44., 16.,  1.],\n",
       "       [ 2., 16., 37., 19.],\n",
       "       [ 2.,  1., 17., 53.]])"
      ]
     },
     "execution_count": 5,
     "metadata": {},
     "output_type": "execute_result"
    }
   ],
   "source": [
    "M_count=np.zeros([4,4])\n",
    "#Find the count in each row\n",
    "for i in range(len(q)-1):\n",
    "    M_count[q[i]][q[i+1]] = M_count[q[i]][q[i+1]] + 1\n",
    "M_count"
   ]
  },
  {
   "cell_type": "code",
   "execution_count": 6,
   "id": "0e73050d",
   "metadata": {},
   "outputs": [
    {
     "data": {
      "text/plain": [
       "array([[0.77027027, 0.17567568, 0.05405405, 0.        ],\n",
       "       [0.17567568, 0.59459459, 0.21621622, 0.01351351],\n",
       "       [0.02702703, 0.21621622, 0.5       , 0.25675676],\n",
       "       [0.02739726, 0.01369863, 0.23287671, 0.7260274 ]])"
      ]
     },
     "execution_count": 6,
     "metadata": {},
     "output_type": "execute_result"
    }
   ],
   "source": [
    "#Estimate Markov matrix\n",
    "sums = M_count.sum(axis=1)\n",
    "M = M_count/sums[:, np.newaxis]\n",
    "M"
   ]
  },
  {
   "cell_type": "code",
   "execution_count": 7,
   "id": "c618c0be",
   "metadata": {},
   "outputs": [],
   "source": [
    "def ergodic(m):\n",
    "    \"\"\"\n",
    "    This code finds the ergodic distribution of a Markov matrix\n",
    "    \"\"\"\n",
    "    n=m.shape[0] # number of rows\n",
    "    T = 1000 # useful constant\n",
    "    eps=0.0001 #useful constant\n",
    "    if (m.shape[0] != m.shape[1]): #test for a square matrix\n",
    "        return('Matrix is not square') \n",
    "    if (not (np.matmul(m,np.ones(n))==1).all()): #test row sums \n",
    "        return('This is not a Markov matrix')\n",
    "    if( not ((m >= 0).all() and (m <= 1).all())): #test probabilities\n",
    "        return('This is not a Markov matrix')\n",
    "    m_long = np.linalg.matrix_power(m,T)\n",
    "    if( not ((m_long > 0).all() and (m_long < 1).all())): #crude test for aperiodic and irreducible\n",
    "        return('This matrix may not be both aperiodic and irreducible')\n",
    "    w,v = np.linalg.eig(m.T) #Need the left eigenvector; that's why we transpose\n",
    "    choose = (abs(w-1) < eps)\n",
    "    m_long = v[:,choose]/sum(v[:,choose])  #Need to make the eigenvector into a probability vector.\n",
    "    return(m_long)"
   ]
  },
  {
   "cell_type": "code",
   "execution_count": 8,
   "id": "aa06ceb9",
   "metadata": {},
   "outputs": [],
   "source": [
    "#This is the code from 28 Jan 21\n",
    "# There's no β here.\n",
    "# This function is used for each row.\n",
    "\n",
    "def kern(c0,c1,rho):\n",
    "    \"\"\"\n",
    "    This function returns an asset pricing kernel \n",
    "    c0 is current consumption\n",
    "    c1 is the vector of future consumptions\n",
    "    rho is the inter-temporal elasticity of substitution\n",
    "    \"\"\"\n",
    "    if rho == 1:\n",
    "        return np.true_divide(1,c1)/(1/c0) \n",
    "    else: \n",
    "        return np.power(c1,-rho)/c0**(-rho)\n",
    "    \n",
    "\n",
    "def mkern(c,beta,rho):\n",
    "    n = len(c) # number of states\n",
    "    K=np.zeros((n,n)) # start with an array of zeros\n",
    "    for i in range (n):\n",
    "        K[i,:] = beta*kern(c[i],c,rho)  # each row is an asset pricing kernel for consumption in state i\n",
    "    return(K)\n",
    "        "
   ]
  },
  {
   "cell_type": "code",
   "execution_count": 9,
   "id": "cf052566",
   "metadata": {},
   "outputs": [],
   "source": [
    "# Now I can price assets\n",
    "\n",
    "def pricing(M,K,R):\n",
    "    \"\"\"\n",
    "    M is a markov matrix\n",
    "    K is a pricing kernel\n",
    "    R is a matrix of asset payouts.\n",
    "    The asset returns are by column\n",
    "    \"\"\"\n",
    "    if M.shape != K.shape:\n",
    "        return('Markov matrix and pricing kernels are not conformable.')\n",
    "    if M.shape[1] != R.shape[0]:\n",
    "        return('Asset price matrix is not conformable.')\n",
    "    P = np.matmul(np.multiply(M,K), R)  \n",
    "    # element by element multiplication of the pricing kernel with the markov probabilities\n",
    "    return(P)"
   ]
  },
  {
   "cell_type": "code",
   "execution_count": 10,
   "id": "8552a676",
   "metadata": {},
   "outputs": [
    {
     "data": {
      "text/plain": [
       "array([[0.98319342],\n",
       "       [0.99431365],\n",
       "       [0.99166405],\n",
       "       [1.0013209 ]])"
      ]
     },
     "execution_count": 10,
     "metadata": {},
     "output_type": "execute_result"
    }
   ],
   "source": [
    "# need all of these constants\n",
    "beta=0.97**(1/4)\n",
    "rho=2\n",
    "\n",
    "R = np.array([[1, 1, 1,1]]).T\n",
    "\n",
    "K=mkern(c,beta,rho)\n",
    "p=pricing(M,K,R)\n",
    "p"
   ]
  },
  {
   "cell_type": "code",
   "execution_count": 11,
   "id": "9d502c03",
   "metadata": {},
   "outputs": [
    {
     "data": {
      "text/plain": [
       "array([[1.07014876],\n",
       "       [1.02307246],\n",
       "       [1.03405044],\n",
       "       [0.99473378]])"
      ]
     },
     "execution_count": 11,
     "metadata": {},
     "output_type": "execute_result"
    }
   ],
   "source": [
    "interest_rate = np.power((1/p),4)\n",
    "interest_rate #check my work"
   ]
  },
  {
   "cell_type": "code",
   "execution_count": 12,
   "id": "e6b53ccc",
   "metadata": {},
   "outputs": [
    {
     "name": "stdout",
     "output_type": "stream",
     "text": [
      "The average long-run interest rate is 1.030622606397559\n"
     ]
    }
   ],
   "source": [
    "print('The average long-run interest rate is', np.dot(ergodic(M).T,interest_rate)[0][0])"
   ]
  }
 ],
 "metadata": {
  "kernelspec": {
   "display_name": "Python 3 (ipykernel)",
   "language": "python",
   "name": "python3"
  },
  "language_info": {
   "codemirror_mode": {
    "name": "ipython",
    "version": 3
   },
   "file_extension": ".py",
   "mimetype": "text/x-python",
   "name": "python",
   "nbconvert_exporter": "python",
   "pygments_lexer": "ipython3",
   "version": "3.8.8"
  }
 },
 "nbformat": 4,
 "nbformat_minor": 5
}
